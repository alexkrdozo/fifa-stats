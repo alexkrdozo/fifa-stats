{
 "cells": [
  {
   "cell_type": "code",
   "execution_count": 38,
   "id": "67911c70-0297-4514-aa29-5c801d57703a",
   "metadata": {},
   "outputs": [],
   "source": [
    "import pandas as pd\n",
    "import numpy as np\n",
    "import matplotlib.pyplot as plt\n",
    "import seaborn as sns\n",
    "import sqlite3"
   ]
  },
  {
   "cell_type": "markdown",
   "id": "f53e2100-5c27-4126-aae6-104ba42214cd",
   "metadata": {},
   "source": [
    "I did some pre-modeling, removing useless columns for the analysis, with excel."
   ]
  },
  {
   "cell_type": "code",
   "execution_count": 3,
   "id": "83662e0b-43a5-4013-8598-d20fd44a1e61",
   "metadata": {},
   "outputs": [],
   "source": [
    "file_path = 'C:/Users/xfilh/Documents/Kaggle_dados/fifa_new.xlsx'\n",
    "\n",
    "fifa_sts = pd.read_excel(file_path)"
   ]
  },
  {
   "cell_type": "markdown",
   "id": "6f1010fe-858f-4351-b6ea-74755a584969",
   "metadata": {},
   "source": [
    "# Data Exploration"
   ]
  },
  {
   "cell_type": "code",
   "execution_count": 4,
   "id": "1b8cc71c-686f-49fe-81f0-2ea755c52260",
   "metadata": {},
   "outputs": [
    {
     "data": {
      "text/html": [
       "<div>\n",
       "<style scoped>\n",
       "    .dataframe tbody tr th:only-of-type {\n",
       "        vertical-align: middle;\n",
       "    }\n",
       "\n",
       "    .dataframe tbody tr th {\n",
       "        vertical-align: top;\n",
       "    }\n",
       "\n",
       "    .dataframe thead th {\n",
       "        text-align: right;\n",
       "    }\n",
       "</style>\n",
       "<table border=\"1\" class=\"dataframe\">\n",
       "  <thead>\n",
       "    <tr style=\"text-align: right;\">\n",
       "      <th></th>\n",
       "      <th>age</th>\n",
       "      <th>height_cm</th>\n",
       "      <th>weight_kgs</th>\n",
       "      <th>positions</th>\n",
       "      <th>nationality</th>\n",
       "      <th>overall_rating</th>\n",
       "      <th>potential</th>\n",
       "      <th>value_euro</th>\n",
       "      <th>wage_euro</th>\n",
       "      <th>preferred_foot</th>\n",
       "      <th>...</th>\n",
       "      <th>long_shots</th>\n",
       "      <th>aggression</th>\n",
       "      <th>interceptions</th>\n",
       "      <th>positioning</th>\n",
       "      <th>vision</th>\n",
       "      <th>penalties</th>\n",
       "      <th>composure</th>\n",
       "      <th>marking</th>\n",
       "      <th>standing_tackle</th>\n",
       "      <th>sliding_tackle</th>\n",
       "    </tr>\n",
       "  </thead>\n",
       "  <tbody>\n",
       "    <tr>\n",
       "      <th>0</th>\n",
       "      <td>31</td>\n",
       "      <td>17018</td>\n",
       "      <td>721</td>\n",
       "      <td>CF,RW,ST</td>\n",
       "      <td>Argentina</td>\n",
       "      <td>94</td>\n",
       "      <td>94</td>\n",
       "      <td>110500000.0</td>\n",
       "      <td>565000.0</td>\n",
       "      <td>Left</td>\n",
       "      <td>...</td>\n",
       "      <td>94</td>\n",
       "      <td>48</td>\n",
       "      <td>22</td>\n",
       "      <td>94</td>\n",
       "      <td>94</td>\n",
       "      <td>75</td>\n",
       "      <td>96</td>\n",
       "      <td>33</td>\n",
       "      <td>28</td>\n",
       "      <td>26</td>\n",
       "    </tr>\n",
       "    <tr>\n",
       "      <th>1</th>\n",
       "      <td>27</td>\n",
       "      <td>15494</td>\n",
       "      <td>762</td>\n",
       "      <td>CAM,RM,CM</td>\n",
       "      <td>Denmark</td>\n",
       "      <td>88</td>\n",
       "      <td>89</td>\n",
       "      <td>69500000.0</td>\n",
       "      <td>205000.0</td>\n",
       "      <td>Right</td>\n",
       "      <td>...</td>\n",
       "      <td>89</td>\n",
       "      <td>46</td>\n",
       "      <td>56</td>\n",
       "      <td>84</td>\n",
       "      <td>91</td>\n",
       "      <td>67</td>\n",
       "      <td>88</td>\n",
       "      <td>59</td>\n",
       "      <td>57</td>\n",
       "      <td>22</td>\n",
       "    </tr>\n",
       "    <tr>\n",
       "      <th>2</th>\n",
       "      <td>25</td>\n",
       "      <td>1905</td>\n",
       "      <td>839</td>\n",
       "      <td>CM,CAM</td>\n",
       "      <td>France</td>\n",
       "      <td>88</td>\n",
       "      <td>91</td>\n",
       "      <td>73000000.0</td>\n",
       "      <td>255000.0</td>\n",
       "      <td>Right</td>\n",
       "      <td>...</td>\n",
       "      <td>82</td>\n",
       "      <td>78</td>\n",
       "      <td>64</td>\n",
       "      <td>82</td>\n",
       "      <td>88</td>\n",
       "      <td>82</td>\n",
       "      <td>87</td>\n",
       "      <td>63</td>\n",
       "      <td>67</td>\n",
       "      <td>67</td>\n",
       "    </tr>\n",
       "    <tr>\n",
       "      <th>3</th>\n",
       "      <td>27</td>\n",
       "      <td>16256</td>\n",
       "      <td>59</td>\n",
       "      <td>LW,ST</td>\n",
       "      <td>Italy</td>\n",
       "      <td>88</td>\n",
       "      <td>88</td>\n",
       "      <td>62000000.0</td>\n",
       "      <td>165000.0</td>\n",
       "      <td>Right</td>\n",
       "      <td>...</td>\n",
       "      <td>84</td>\n",
       "      <td>34</td>\n",
       "      <td>26</td>\n",
       "      <td>83</td>\n",
       "      <td>87</td>\n",
       "      <td>61</td>\n",
       "      <td>83</td>\n",
       "      <td>51</td>\n",
       "      <td>24</td>\n",
       "      <td>22</td>\n",
       "    </tr>\n",
       "    <tr>\n",
       "      <th>4</th>\n",
       "      <td>27</td>\n",
       "      <td>18796</td>\n",
       "      <td>889</td>\n",
       "      <td>CB</td>\n",
       "      <td>Senegal</td>\n",
       "      <td>88</td>\n",
       "      <td>91</td>\n",
       "      <td>60000000.0</td>\n",
       "      <td>135000.0</td>\n",
       "      <td>Right</td>\n",
       "      <td>...</td>\n",
       "      <td>15</td>\n",
       "      <td>87</td>\n",
       "      <td>88</td>\n",
       "      <td>24</td>\n",
       "      <td>49</td>\n",
       "      <td>33</td>\n",
       "      <td>80</td>\n",
       "      <td>91</td>\n",
       "      <td>88</td>\n",
       "      <td>87</td>\n",
       "    </tr>\n",
       "  </tbody>\n",
       "</table>\n",
       "<p>5 rows × 43 columns</p>\n",
       "</div>"
      ],
      "text/plain": [
       "   age  height_cm  weight_kgs  positions nationality  overall_rating  \\\n",
       "0   31      17018         721   CF,RW,ST   Argentina              94   \n",
       "1   27      15494         762  CAM,RM,CM     Denmark              88   \n",
       "2   25       1905         839     CM,CAM      France              88   \n",
       "3   27      16256          59      LW,ST       Italy              88   \n",
       "4   27      18796         889         CB     Senegal              88   \n",
       "\n",
       "   potential   value_euro  wage_euro preferred_foot  ...  long_shots  \\\n",
       "0         94  110500000.0   565000.0           Left  ...          94   \n",
       "1         89   69500000.0   205000.0          Right  ...          89   \n",
       "2         91   73000000.0   255000.0          Right  ...          82   \n",
       "3         88   62000000.0   165000.0          Right  ...          84   \n",
       "4         91   60000000.0   135000.0          Right  ...          15   \n",
       "\n",
       "   aggression  interceptions positioning  vision  penalties  composure  \\\n",
       "0          48             22          94      94         75         96   \n",
       "1          46             56          84      91         67         88   \n",
       "2          78             64          82      88         82         87   \n",
       "3          34             26          83      87         61         83   \n",
       "4          87             88          24      49         33         80   \n",
       "\n",
       "   marking  standing_tackle  sliding_tackle  \n",
       "0       33               28              26  \n",
       "1       59               57              22  \n",
       "2       63               67              67  \n",
       "3       51               24              22  \n",
       "4       91               88              87  \n",
       "\n",
       "[5 rows x 43 columns]"
      ]
     },
     "execution_count": 4,
     "metadata": {},
     "output_type": "execute_result"
    }
   ],
   "source": [
    "fifa_sts.head(5)"
   ]
  },
  {
   "cell_type": "code",
   "execution_count": 5,
   "id": "db787d91-20b9-4844-8e3e-7d9a66ee0739",
   "metadata": {},
   "outputs": [
    {
     "name": "stdout",
     "output_type": "stream",
     "text": [
      "<class 'pandas.core.frame.DataFrame'>\n",
      "RangeIndex: 17954 entries, 0 to 17953\n",
      "Data columns (total 43 columns):\n",
      " #   Column                         Non-Null Count  Dtype  \n",
      "---  ------                         --------------  -----  \n",
      " 0   age                            17954 non-null  int64  \n",
      " 1   height_cm                      17954 non-null  int64  \n",
      " 2   weight_kgs                     17954 non-null  int64  \n",
      " 3   positions                      17954 non-null  object \n",
      " 4   nationality                    17954 non-null  object \n",
      " 5   overall_rating                 17954 non-null  int64  \n",
      " 6   potential                      17954 non-null  int64  \n",
      " 7   value_euro                     17699 non-null  float64\n",
      " 8   wage_euro                      17708 non-null  float64\n",
      " 9   preferred_foot                 17954 non-null  object \n",
      " 10  international_reputation(1-5)  17954 non-null  int64  \n",
      " 11  weak_foot(1-5)                 17954 non-null  int64  \n",
      " 12  skill_moves(1-5)               17954 non-null  int64  \n",
      " 13  body_type                      17954 non-null  object \n",
      " 14  crossing                       17954 non-null  int64  \n",
      " 15  finishing                      17954 non-null  int64  \n",
      " 16  heading_accuracy               17954 non-null  int64  \n",
      " 17  short_passing                  17954 non-null  int64  \n",
      " 18  volleys                        17954 non-null  int64  \n",
      " 19  dribbling                      17954 non-null  int64  \n",
      " 20  curve                          17954 non-null  int64  \n",
      " 21  freekick_accuracy              17954 non-null  int64  \n",
      " 22  long_passing                   17954 non-null  int64  \n",
      " 23  ball_control                   17954 non-null  int64  \n",
      " 24  acceleration                   17954 non-null  int64  \n",
      " 25  sprint_speed                   17954 non-null  int64  \n",
      " 26  agility                        17954 non-null  int64  \n",
      " 27  reactions                      17954 non-null  int64  \n",
      " 28  balance                        17954 non-null  int64  \n",
      " 29  shot_power                     17954 non-null  int64  \n",
      " 30  jumping                        17954 non-null  int64  \n",
      " 31  stamina                        17954 non-null  int64  \n",
      " 32  strength                       17954 non-null  int64  \n",
      " 33  long_shots                     17954 non-null  int64  \n",
      " 34  aggression                     17954 non-null  int64  \n",
      " 35  interceptions                  17954 non-null  int64  \n",
      " 36  positioning                    17954 non-null  int64  \n",
      " 37  vision                         17954 non-null  int64  \n",
      " 38  penalties                      17954 non-null  int64  \n",
      " 39  composure                      17954 non-null  int64  \n",
      " 40  marking                        17954 non-null  int64  \n",
      " 41  standing_tackle                17954 non-null  int64  \n",
      " 42  sliding_tackle                 17954 non-null  int64  \n",
      "dtypes: float64(2), int64(37), object(4)\n",
      "memory usage: 5.9+ MB\n"
     ]
    }
   ],
   "source": [
    "fifa_sts.info()"
   ]
  },
  {
   "cell_type": "code",
   "execution_count": 6,
   "id": "ad766df2-a3e9-420e-8a21-af7472a5331d",
   "metadata": {},
   "outputs": [
    {
     "data": {
      "text/html": [
       "<div>\n",
       "<style scoped>\n",
       "    .dataframe tbody tr th:only-of-type {\n",
       "        vertical-align: middle;\n",
       "    }\n",
       "\n",
       "    .dataframe tbody tr th {\n",
       "        vertical-align: top;\n",
       "    }\n",
       "\n",
       "    .dataframe thead th {\n",
       "        text-align: right;\n",
       "    }\n",
       "</style>\n",
       "<table border=\"1\" class=\"dataframe\">\n",
       "  <thead>\n",
       "    <tr style=\"text-align: right;\">\n",
       "      <th></th>\n",
       "      <th>age</th>\n",
       "      <th>height_cm</th>\n",
       "      <th>weight_kgs</th>\n",
       "      <th>overall_rating</th>\n",
       "      <th>potential</th>\n",
       "      <th>value_euro</th>\n",
       "      <th>wage_euro</th>\n",
       "      <th>international_reputation(1-5)</th>\n",
       "      <th>weak_foot(1-5)</th>\n",
       "      <th>skill_moves(1-5)</th>\n",
       "      <th>...</th>\n",
       "      <th>long_shots</th>\n",
       "      <th>aggression</th>\n",
       "      <th>interceptions</th>\n",
       "      <th>positioning</th>\n",
       "      <th>vision</th>\n",
       "      <th>penalties</th>\n",
       "      <th>composure</th>\n",
       "      <th>marking</th>\n",
       "      <th>standing_tackle</th>\n",
       "      <th>sliding_tackle</th>\n",
       "    </tr>\n",
       "  </thead>\n",
       "  <tbody>\n",
       "    <tr>\n",
       "      <th>count</th>\n",
       "      <td>17954.000000</td>\n",
       "      <td>17954.000000</td>\n",
       "      <td>17954.000000</td>\n",
       "      <td>17954.000000</td>\n",
       "      <td>17954.000000</td>\n",
       "      <td>1.769900e+04</td>\n",
       "      <td>17708.000000</td>\n",
       "      <td>17954.000000</td>\n",
       "      <td>17954.000000</td>\n",
       "      <td>17954.000000</td>\n",
       "      <td>...</td>\n",
       "      <td>17954.000000</td>\n",
       "      <td>17954.000000</td>\n",
       "      <td>17954.000000</td>\n",
       "      <td>17954.000000</td>\n",
       "      <td>17954.000000</td>\n",
       "      <td>17954.000000</td>\n",
       "      <td>17954.000000</td>\n",
       "      <td>17954.000000</td>\n",
       "      <td>17954.000000</td>\n",
       "      <td>17954.000000</td>\n",
       "    </tr>\n",
       "    <tr>\n",
       "      <th>mean</th>\n",
       "      <td>25.565445</td>\n",
       "      <td>14555.130890</td>\n",
       "      <td>604.525510</td>\n",
       "      <td>66.240169</td>\n",
       "      <td>71.430935</td>\n",
       "      <td>2.479280e+06</td>\n",
       "      <td>9902.134628</td>\n",
       "      <td>1.111674</td>\n",
       "      <td>2.945695</td>\n",
       "      <td>2.361034</td>\n",
       "      <td>...</td>\n",
       "      <td>46.852456</td>\n",
       "      <td>55.816531</td>\n",
       "      <td>46.657959</td>\n",
       "      <td>49.857302</td>\n",
       "      <td>53.406260</td>\n",
       "      <td>48.357302</td>\n",
       "      <td>58.680183</td>\n",
       "      <td>47.162861</td>\n",
       "      <td>47.733040</td>\n",
       "      <td>45.705915</td>\n",
       "    </tr>\n",
       "    <tr>\n",
       "      <th>std</th>\n",
       "      <td>4.705708</td>\n",
       "      <td>6528.512029</td>\n",
       "      <td>288.433223</td>\n",
       "      <td>6.963730</td>\n",
       "      <td>6.131339</td>\n",
       "      <td>5.687014e+06</td>\n",
       "      <td>21995.593750</td>\n",
       "      <td>0.392168</td>\n",
       "      <td>0.663691</td>\n",
       "      <td>0.763223</td>\n",
       "      <td>...</td>\n",
       "      <td>19.429337</td>\n",
       "      <td>17.394047</td>\n",
       "      <td>20.754649</td>\n",
       "      <td>19.694311</td>\n",
       "      <td>14.156038</td>\n",
       "      <td>15.810844</td>\n",
       "      <td>11.625541</td>\n",
       "      <td>20.037346</td>\n",
       "      <td>21.674973</td>\n",
       "      <td>21.285812</td>\n",
       "    </tr>\n",
       "    <tr>\n",
       "      <th>min</th>\n",
       "      <td>17.000000</td>\n",
       "      <td>1524.000000</td>\n",
       "      <td>54.000000</td>\n",
       "      <td>47.000000</td>\n",
       "      <td>48.000000</td>\n",
       "      <td>1.000000e+04</td>\n",
       "      <td>1000.000000</td>\n",
       "      <td>1.000000</td>\n",
       "      <td>1.000000</td>\n",
       "      <td>1.000000</td>\n",
       "      <td>...</td>\n",
       "      <td>3.000000</td>\n",
       "      <td>11.000000</td>\n",
       "      <td>3.000000</td>\n",
       "      <td>2.000000</td>\n",
       "      <td>10.000000</td>\n",
       "      <td>5.000000</td>\n",
       "      <td>12.000000</td>\n",
       "      <td>3.000000</td>\n",
       "      <td>2.000000</td>\n",
       "      <td>3.000000</td>\n",
       "    </tr>\n",
       "    <tr>\n",
       "      <th>25%</th>\n",
       "      <td>22.000000</td>\n",
       "      <td>15494.000000</td>\n",
       "      <td>649.000000</td>\n",
       "      <td>62.000000</td>\n",
       "      <td>67.000000</td>\n",
       "      <td>3.250000e+05</td>\n",
       "      <td>1000.000000</td>\n",
       "      <td>1.000000</td>\n",
       "      <td>3.000000</td>\n",
       "      <td>2.000000</td>\n",
       "      <td>...</td>\n",
       "      <td>32.000000</td>\n",
       "      <td>44.000000</td>\n",
       "      <td>26.000000</td>\n",
       "      <td>38.000000</td>\n",
       "      <td>44.000000</td>\n",
       "      <td>38.000000</td>\n",
       "      <td>51.000000</td>\n",
       "      <td>30.000000</td>\n",
       "      <td>27.000000</td>\n",
       "      <td>24.000000</td>\n",
       "    </tr>\n",
       "    <tr>\n",
       "      <th>50%</th>\n",
       "      <td>25.000000</td>\n",
       "      <td>17526.000000</td>\n",
       "      <td>721.000000</td>\n",
       "      <td>66.000000</td>\n",
       "      <td>71.000000</td>\n",
       "      <td>7.000000e+05</td>\n",
       "      <td>3000.000000</td>\n",
       "      <td>1.000000</td>\n",
       "      <td>3.000000</td>\n",
       "      <td>2.000000</td>\n",
       "      <td>...</td>\n",
       "      <td>51.000000</td>\n",
       "      <td>59.000000</td>\n",
       "      <td>52.000000</td>\n",
       "      <td>55.000000</td>\n",
       "      <td>55.000000</td>\n",
       "      <td>49.000000</td>\n",
       "      <td>60.000000</td>\n",
       "      <td>52.500000</td>\n",
       "      <td>55.000000</td>\n",
       "      <td>52.000000</td>\n",
       "    </tr>\n",
       "    <tr>\n",
       "      <th>75%</th>\n",
       "      <td>29.000000</td>\n",
       "      <td>18542.000000</td>\n",
       "      <td>789.000000</td>\n",
       "      <td>71.000000</td>\n",
       "      <td>75.000000</td>\n",
       "      <td>2.100000e+06</td>\n",
       "      <td>9000.000000</td>\n",
       "      <td>1.000000</td>\n",
       "      <td>3.000000</td>\n",
       "      <td>3.000000</td>\n",
       "      <td>...</td>\n",
       "      <td>62.000000</td>\n",
       "      <td>69.000000</td>\n",
       "      <td>64.000000</td>\n",
       "      <td>64.000000</td>\n",
       "      <td>64.000000</td>\n",
       "      <td>60.000000</td>\n",
       "      <td>67.000000</td>\n",
       "      <td>64.000000</td>\n",
       "      <td>66.000000</td>\n",
       "      <td>64.000000</td>\n",
       "    </tr>\n",
       "    <tr>\n",
       "      <th>max</th>\n",
       "      <td>46.000000</td>\n",
       "      <td>20574.000000</td>\n",
       "      <td>1102.000000</td>\n",
       "      <td>94.000000</td>\n",
       "      <td>95.000000</td>\n",
       "      <td>1.105000e+08</td>\n",
       "      <td>565000.000000</td>\n",
       "      <td>5.000000</td>\n",
       "      <td>5.000000</td>\n",
       "      <td>5.000000</td>\n",
       "      <td>...</td>\n",
       "      <td>94.000000</td>\n",
       "      <td>95.000000</td>\n",
       "      <td>92.000000</td>\n",
       "      <td>95.000000</td>\n",
       "      <td>94.000000</td>\n",
       "      <td>92.000000</td>\n",
       "      <td>96.000000</td>\n",
       "      <td>94.000000</td>\n",
       "      <td>93.000000</td>\n",
       "      <td>90.000000</td>\n",
       "    </tr>\n",
       "  </tbody>\n",
       "</table>\n",
       "<p>8 rows × 39 columns</p>\n",
       "</div>"
      ],
      "text/plain": [
       "                age     height_cm    weight_kgs  overall_rating     potential  \\\n",
       "count  17954.000000  17954.000000  17954.000000    17954.000000  17954.000000   \n",
       "mean      25.565445  14555.130890    604.525510       66.240169     71.430935   \n",
       "std        4.705708   6528.512029    288.433223        6.963730      6.131339   \n",
       "min       17.000000   1524.000000     54.000000       47.000000     48.000000   \n",
       "25%       22.000000  15494.000000    649.000000       62.000000     67.000000   \n",
       "50%       25.000000  17526.000000    721.000000       66.000000     71.000000   \n",
       "75%       29.000000  18542.000000    789.000000       71.000000     75.000000   \n",
       "max       46.000000  20574.000000   1102.000000       94.000000     95.000000   \n",
       "\n",
       "         value_euro      wage_euro  international_reputation(1-5)  \\\n",
       "count  1.769900e+04   17708.000000                   17954.000000   \n",
       "mean   2.479280e+06    9902.134628                       1.111674   \n",
       "std    5.687014e+06   21995.593750                       0.392168   \n",
       "min    1.000000e+04    1000.000000                       1.000000   \n",
       "25%    3.250000e+05    1000.000000                       1.000000   \n",
       "50%    7.000000e+05    3000.000000                       1.000000   \n",
       "75%    2.100000e+06    9000.000000                       1.000000   \n",
       "max    1.105000e+08  565000.000000                       5.000000   \n",
       "\n",
       "       weak_foot(1-5)  skill_moves(1-5)  ...    long_shots    aggression  \\\n",
       "count    17954.000000      17954.000000  ...  17954.000000  17954.000000   \n",
       "mean         2.945695          2.361034  ...     46.852456     55.816531   \n",
       "std          0.663691          0.763223  ...     19.429337     17.394047   \n",
       "min          1.000000          1.000000  ...      3.000000     11.000000   \n",
       "25%          3.000000          2.000000  ...     32.000000     44.000000   \n",
       "50%          3.000000          2.000000  ...     51.000000     59.000000   \n",
       "75%          3.000000          3.000000  ...     62.000000     69.000000   \n",
       "max          5.000000          5.000000  ...     94.000000     95.000000   \n",
       "\n",
       "       interceptions   positioning        vision     penalties     composure  \\\n",
       "count   17954.000000  17954.000000  17954.000000  17954.000000  17954.000000   \n",
       "mean       46.657959     49.857302     53.406260     48.357302     58.680183   \n",
       "std        20.754649     19.694311     14.156038     15.810844     11.625541   \n",
       "min         3.000000      2.000000     10.000000      5.000000     12.000000   \n",
       "25%        26.000000     38.000000     44.000000     38.000000     51.000000   \n",
       "50%        52.000000     55.000000     55.000000     49.000000     60.000000   \n",
       "75%        64.000000     64.000000     64.000000     60.000000     67.000000   \n",
       "max        92.000000     95.000000     94.000000     92.000000     96.000000   \n",
       "\n",
       "            marking  standing_tackle  sliding_tackle  \n",
       "count  17954.000000     17954.000000    17954.000000  \n",
       "mean      47.162861        47.733040       45.705915  \n",
       "std       20.037346        21.674973       21.285812  \n",
       "min        3.000000         2.000000        3.000000  \n",
       "25%       30.000000        27.000000       24.000000  \n",
       "50%       52.500000        55.000000       52.000000  \n",
       "75%       64.000000        66.000000       64.000000  \n",
       "max       94.000000        93.000000       90.000000  \n",
       "\n",
       "[8 rows x 39 columns]"
      ]
     },
     "execution_count": 6,
     "metadata": {},
     "output_type": "execute_result"
    }
   ],
   "source": [
    "fifa_sts.describe()"
   ]
  },
  {
   "cell_type": "code",
   "execution_count": 25,
   "id": "79265821-9c48-46e3-92a7-caa745a144d6",
   "metadata": {},
   "outputs": [
    {
     "data": {
      "text/plain": [
       "body_type\n",
       "Akinfenwa                 1\n",
       "C. Ronaldo                1\n",
       "Lean                   6009\n",
       "Messi                     1\n",
       "Neymar                    1\n",
       "Normal                 8921\n",
       "PLAYER_BODY_TYPE_25       1\n",
       "Shaqiri                   1\n",
       "Stocky                  953\n",
       "dtype: int64"
      ]
     },
     "execution_count": 25,
     "metadata": {},
     "output_type": "execute_result"
    }
   ],
   "source": [
    "group = fifa_sts.groupby(['body_type']).size()\n",
    "group"
   ]
  },
  {
   "cell_type": "markdown",
   "id": "566b7239-b5e1-4d91-be0e-2e9b21d58f37",
   "metadata": {},
   "source": [
    "## Removing the GK as there is no specific data about the position."
   ]
  },
  {
   "cell_type": "code",
   "execution_count": 22,
   "id": "fcf34a72-06ea-465b-bcb4-a25633b51743",
   "metadata": {
    "scrolled": true
   },
   "outputs": [],
   "source": [
    "fifa_sts = fifa_sts[~fifa_sts['positions'].str.contains('GK')]\n",
    "fifa_sts.to_excel(file_path)"
   ]
  },
  {
   "cell_type": "markdown",
   "id": "e0aeaa68-07d8-4497-bc61-2793f8f70f53",
   "metadata": {},
   "source": [
    "## Replacing body type outliers with column mode"
   ]
  },
  {
   "cell_type": "code",
   "execution_count": 26,
   "id": "7a807c5d-ebb9-4f6a-b989-94a6b72018e6",
   "metadata": {},
   "outputs": [
    {
     "data": {
      "text/plain": [
       "'Normal'"
      ]
     },
     "execution_count": 26,
     "metadata": {},
     "output_type": "execute_result"
    }
   ],
   "source": [
    "moda = fifa_sts['body_type'].mode()[0]\n",
    "moda"
   ]
  },
  {
   "cell_type": "code",
   "execution_count": 30,
   "id": "9ac96d7f-4a50-41e8-a4c1-b821fbdddd32",
   "metadata": {},
   "outputs": [],
   "source": [
    "fifa_sts['body_type'] = fifa_sts['body_type'].apply(lambda x: x if x in ['Normal', 'Stocky', 'Lean'] else moda)"
   ]
  },
  {
   "cell_type": "code",
   "execution_count": 31,
   "id": "dcff6937-a56d-44fb-aae5-ec7f7980d4a9",
   "metadata": {},
   "outputs": [
    {
     "data": {
      "text/plain": [
       "body_type\n",
       "Lean      6009\n",
       "Normal    8927\n",
       "Stocky     953\n",
       "dtype: int64"
      ]
     },
     "execution_count": 31,
     "metadata": {},
     "output_type": "execute_result"
    }
   ],
   "source": [
    "group = fifa_sts.groupby(['body_type']).size()\n",
    "group"
   ]
  },
  {
   "cell_type": "code",
   "execution_count": 33,
   "id": "b7eb4f8c-9811-4e0b-ba49-b347caf5f787",
   "metadata": {},
   "outputs": [],
   "source": [
    "fifa_sts.to_excel(file_path)"
   ]
  },
  {
   "cell_type": "markdown",
   "id": "cc2778e1-9f86-4fcf-ad07-85906878c82b",
   "metadata": {},
   "source": [
    "## There are too many positions, to better visualization we will reduce all players to one specific position"
   ]
  },
  {
   "cell_type": "markdown",
   "id": "531dca2f-6566-41f8-862e-1bee009a7a92",
   "metadata": {},
   "source": [
    "### To do this, I will randomly choose a position based on the multiple positions of each cell. From there, replacing the cell with just the chosen position."
   ]
  },
  {
   "cell_type": "code",
   "execution_count": 78,
   "id": "fd355890-133a-430c-99e0-400603dd557a",
   "metadata": {},
   "outputs": [
    {
     "data": {
      "text/plain": [
       "0         ST\n",
       "1        CAM\n",
       "2         CM\n",
       "3         ST\n",
       "4         CB\n",
       "        ... \n",
       "15884    CAM\n",
       "15885    CAM\n",
       "15886     LB\n",
       "15887     ST\n",
       "15888     ST\n",
       "Name: positions, Length: 15889, dtype: object"
      ]
     },
     "execution_count": 78,
     "metadata": {},
     "output_type": "execute_result"
    }
   ],
   "source": [
    "import random\n",
    "\n",
    "# found a problem with the index in the dataset, gonna reset\n",
    "\n",
    "fifa_sts = fifa_sts.reset_index(drop=True)\n",
    "\n",
    "def random_choice_from_cell(dataframe, row, col, delimiter=','):\n",
    "    try:\n",
    "        cell_value = dataframe.at[row, col]\n",
    "        # Divide cell value by delimiter and transform into list\n",
    "        cell_list = cell_value.split(delimiter)\n",
    "        # Choose an element at random from the list\n",
    "        chosen_value = random.choice(cell_list).strip()\n",
    "        # Replace the value in the cell\n",
    "        dataframe.at[row, col] = chosen_value\n",
    "    except KeyError:\n",
    "        print(f\"KeyError: Coluna '{col}' ou linha '{row}' não existe no DataFrame\")\n",
    "    except IndexError:\n",
    "        print(f\"IndexError: Índice da linha '{row}' está fora do alcance do DataFrame\")\n",
    "\n",
    "# Apply the function to all cells in the 'positions' column\n",
    "for index in range(len(fifa_sts)):\n",
    "    random_choice_from_cell(fifa_sts, index, 'positions')\n",
    "\n",
    "# Show the modified DataFrame\n",
    "fifa_sts['positions']"
   ]
  },
  {
   "cell_type": "code",
   "execution_count": 70,
   "id": "bfcce6ce-7ba4-42e6-9fd0-23a80f2b637e",
   "metadata": {},
   "outputs": [
    {
     "data": {
      "text/plain": [
       "<Axes: xlabel='positions'>"
      ]
     },
     "execution_count": 70,
     "metadata": {},
     "output_type": "execute_result"
    },
    {
     "data": {
      "image/png": "[encoded data removed]",
      "text/plain": [
       "<Figure size 640x480 with 1 Axes>"
      ]
     },
     "metadata": {},
     "output_type": "display_data"
    }
   ],
   "source": [
    "group = fifa_sts.groupby(['positions']).size()\n",
    "group\n",
    "group.plot.bar()"
   ]
  },
  {
   "cell_type": "markdown",
   "id": "9a64f07f-64a5-4e44-b091-bbed9df6aab5",
   "metadata": {},
   "source": [
    "# What is the relationship between body type and the position the player plays?"
   ]
  },
  {
   "cell_type": "code",
   "execution_count": 77,
   "id": "182a50e2-4efe-42e1-960f-4a3c1f59f5da",
   "metadata": {},
   "outputs": [
    {
     "data": {
      "image/png": "[encoded data removed]",
      "text/plain": [
       "<Figure size 1200x600 with 1 Axes>"
      ]
     },
     "metadata": {},
     "output_type": "display_data"
    }
   ],
   "source": [
    "body_type_counts = fifa_sts.groupby(['positions', 'body_type']).size().reset_index(name='counts')\n",
    "\n",
    "# Create the bar chart\n",
    "plt.figure(figsize=(12, 6))\n",
    "sns.barplot(x='positions', y='counts', hue='body_type', data=body_type_counts)\n",
    "plt.title('Body Type Distribution by Position')\n",
    "plt.xlabel('Position')\n",
    "plt.ylabel('Quantity')\n",
    "plt.legend(title='Body Type')\n",
    "plt.show()"
   ]
  },
  {
   "cell_type": "markdown",
   "id": "260009a4-f1c9-4076-9815-84d334a1d135",
   "metadata": {},
   "source": [
    "## Now we will see this data proportionally, for better precision"
   ]
  },
  {
   "cell_type": "code",
   "execution_count": 91,
   "id": "cf517153-1c43-4bf7-baf2-9c092cfe6bc1",
   "metadata": {},
   "outputs": [
    {
     "name": "stdout",
     "output_type": "stream",
     "text": [
      "\n",
      "Body type proportion by position:\n",
      "   positions body_type  counts  total  proportion\n",
      "0        CAM      Lean     423   1062    0.398305\n",
      "1        CAM    Normal     583   1062    0.548964\n",
      "2        CAM    Stocky      56   1062    0.052731\n",
      "3         CB      Lean    1088   2905    0.374527\n",
      "4         CB    Normal    1651   2905    0.568330\n",
      "5         CB    Stocky     166   2905    0.057143\n",
      "6        CDM      Lean     488   1366    0.357247\n",
      "7        CDM    Normal     796   1366    0.582723\n",
      "8        CDM    Stocky      82   1366    0.060029\n",
      "9         CF      Lean      73    178    0.410112\n",
      "10        CF    Normal     100    178    0.561798\n",
      "11        CF    Stocky       5    178    0.028090\n",
      "12        CM      Lean     842   2152    0.391264\n",
      "13        CM    Normal    1177   2152    0.546933\n",
      "14        CM    Stocky     133   2152    0.061803\n",
      "15        LB      Lean     494   1273    0.388060\n",
      "16        LB    Normal     712   1273    0.559309\n",
      "17        LB    Stocky      67   1273    0.052632\n",
      "18        LM      Lean     442   1123    0.393589\n",
      "19        LM    Normal     608   1123    0.541407\n",
      "20        LM    Stocky      73   1123    0.065004\n",
      "21        LW      Lean     157    445    0.352809\n",
      "22        LW    Normal     262    445    0.588764\n",
      "23        LW    Stocky      26    445    0.058427\n",
      "24       LWB      Lean      51    136    0.375000\n",
      "25       LWB    Normal      76    136    0.558824\n",
      "26       LWB    Stocky       9    136    0.066176\n",
      "27        RB      Lean     442   1179    0.374894\n",
      "28        RB    Normal     658   1179    0.558100\n",
      "29        RB    Stocky      79   1179    0.067006\n",
      "30        RM      Lean     448   1166    0.384220\n",
      "31        RM    Normal     655   1166    0.561750\n",
      "32        RM    Stocky      63   1166    0.054031\n",
      "33        RW      Lean     177    433    0.408776\n",
      "34        RW    Normal     228    433    0.526559\n",
      "35        RW    Stocky      28    433    0.064665\n",
      "36       RWB      Lean      54    134    0.402985\n",
      "37       RWB    Normal      75    134    0.559701\n",
      "38       RWB    Stocky       5    134    0.037313\n",
      "39        ST      Lean     830   2337    0.355156\n",
      "40        ST    Normal    1346   2337    0.575952\n",
      "41        ST    Stocky     161   2337    0.068892\n"
     ]
    }
   ],
   "source": [
    "# Count total players by position\n",
    "position_counts = fifa_sts.groupby('positions').size().reset_index(name='total')\n",
    "\n",
    "# Merge total counts with body type counts\n",
    "body_type_proportions = pd.merge(body_type_counts, position_counts, on='positions')\n",
    "\n",
    "# calculate the proportion\n",
    "body_type_proportions['proportion'] = body_type_proportions['counts'] / body_type_proportions['total']\n",
    "\n",
    "print(\"\\nBody type proportion by position:\")\n",
    "print(body_type_proportions)"
   ]
  },
  {
   "cell_type": "code",
   "execution_count": 90,
   "id": "14e6bdba-ec35-47c0-8087-f517bd8faac7",
   "metadata": {},
   "outputs": [
    {
     "data": {
      "image/png": "[encoded data removed]",
      "text/plain": [
       "<Figure size 1200x600 with 1 Axes>"
      ]
     },
     "metadata": {},
     "output_type": "display_data"
    }
   ],
   "source": [
    "plt.figure(figsize=(12, 6))\n",
    "sns.barplot(x='positions', y='proportion', hue='body_type', data=body_type_proportions)\n",
    "plt.title('Body type proportion by position')\n",
    "plt.xlabel('Position')\n",
    "plt.ylabel('Proportion')\n",
    "plt.legend(title='Body Type')\n",
    "plt.show()"
   ]
  },
  {
   "cell_type": "markdown",
   "id": "ec1da610-1525-4adb-a241-eac7dc5f8a61",
   "metadata": {},
   "source": [
    "There is no big diff in the position and the player's body type"
   ]
  },
  {
   "cell_type": "code",
   "execution_count": 86,
   "id": "88bb5785-8e70-4763-a786-7c259bc6a96a",
   "metadata": {},
   "outputs": [
    {
     "name": "stdout",
     "output_type": "stream",
     "text": [
      "body_type\n",
      "Normal    0.561798\n",
      "Lean      0.410112\n",
      "Stocky    0.028090\n",
      "Name: proportion, dtype: float64\n"
     ]
    },
    {
     "data": {
      "text/plain": [
       "<Axes: xlabel='body_type'>"
      ]
     },
     "execution_count": 86,
     "metadata": {},
     "output_type": "execute_result"
    },
    {
     "data": {
      "image/png": "[encoded data removed]",
      "text/plain": [
       "<Figure size 640x480 with 1 Axes>"
      ]
     },
     "metadata": {},
     "output_type": "display_data"
    }
   ],
   "source": [
    "group = fifa_sts.query(\"positions == 'CF'\")['body_type'].value_counts(normalize=True)\n",
    "print(group)\n",
    "group.plot.bar()"
   ]
  },
  {
   "cell_type": "markdown",
   "id": "05e7cb30-1943-4d65-87b6-1bccd6fe72b7",
   "metadata": {},
   "source": [
    "## Is there any relationship between the body type and the sprint speed?"
   ]
  },
  {
   "cell_type": "code",
   "execution_count": 96,
   "id": "48af4885-07de-45e0-ac54-793f21623b8e",
   "metadata": {},
   "outputs": [
    {
     "data": {
      "image/png": "[encoded data removed]",
      "text/plain": [
       "<Figure size 1200x600 with 1 Axes>"
      ]
     },
     "metadata": {},
     "output_type": "display_data"
    }
   ],
   "source": [
    "#speed_counts = fifa_sts.groupby(['body_type', 'sprint_speed']).size().reset_index(name='counts')\n",
    "\n",
    "# Create the bar chart\n",
    "plt.figure(figsize=(12, 6))\n",
    "sns.barplot(x='sprint_speed', y='body_type', data=fifa_sts)\n",
    "plt.title('Body Type Distribution by Sprint Speed')\n",
    "plt.xlabel('Sprint Speed')\n",
    "plt.ylabel('Body Type')\n",
    "#plt.legend(title='Sprint Speed')\n",
    "plt.show()"
   ]
  },
  {
   "cell_type": "markdown",
   "id": "34e8069b-5fea-41fd-b355-9370a850f9e0",
   "metadata": {},
   "source": [
    "Well Stocky players do really have a good sprint speed performance al"
   ]
  },
  {
   "cell_type": "code",
   "execution_count": null,
   "id": "5e49594d-eebd-44ca-a636-e703fe18cffb",
   "metadata": {},
   "outputs": [],
   "source": []
  }
 ],
 "metadata": {
  "kernelspec": {
   "display_name": "Python 3 (ipykernel)",
   "language": "python",
   "name": "python3"
  },
  "language_info": {
   "codemirror_mode": {
    "name": "ipython",
    "version": 3
   },
   "file_extension": ".py",
   "mimetype": "text/x-python",
   "name": "python",
   "nbconvert_exporter": "python",
   "pygments_lexer": "ipython3",
   "version": "3.12.4"
  }
 },
 "nbformat": 4,
 "nbformat_minor": 5
}
